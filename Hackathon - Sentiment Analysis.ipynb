{
 "cells": [
  {
   "cell_type": "code",
   "execution_count": 1,
   "metadata": {},
   "outputs": [],
   "source": [
    "import sys, os"
   ]
  },
  {
   "cell_type": "code",
   "execution_count": 2,
   "metadata": {},
   "outputs": [
    {
     "data": {
      "text/plain": [
       "['',\n",
       " '/home/imaginasian23/anaconda3/lib/python36.zip',\n",
       " '/home/imaginasian23/anaconda3/lib/python3.6',\n",
       " '/home/imaginasian23/anaconda3/lib/python3.6/lib-dynload',\n",
       " '/home/imaginasian23/anaconda3/lib/python3.6/site-packages',\n",
       " '/home/imaginasian23/anaconda3/lib/python3.6/site-packages/IPython/extensions',\n",
       " '/home/imaginasian23/.ipython']"
      ]
     },
     "execution_count": 2,
     "metadata": {},
     "output_type": "execute_result"
    }
   ],
   "source": [
    "sys.path"
   ]
  },
  {
   "cell_type": "code",
   "execution_count": 3,
   "metadata": {},
   "outputs": [],
   "source": [
    "extra_packages = [\n",
    "    '/home/imaginasian23',\n",
    "    '/home/imaginasian23/.conda/envs/hackathon/lib/python36.zip',\n",
    "    '/home/imaginasian23/.conda/envs/hackathon/lib/python3.6',\n",
    "    '/home/imaginasian23/.conda/envs/hackathon/lib/python3.6/lib-dynload',\n",
    "    '/home/imaginasian23/.conda/envs/hackathon/lib/python3.6/site-packages',\n",
    "]"
   ]
  },
  {
   "cell_type": "code",
   "execution_count": 4,
   "metadata": {},
   "outputs": [],
   "source": [
    "sys.path += extra_packages"
   ]
  },
  {
   "cell_type": "code",
   "execution_count": 5,
   "metadata": {},
   "outputs": [
    {
     "name": "stderr",
     "output_type": "stream",
     "text": [
      "/home/imaginasian23/anaconda3/lib/python3.6/site-packages/IPython/core/interactiveshell.py:2785: DtypeWarning: Columns (0,7,8,11,16) have mixed types. Specify dtype option on import or set low_memory=False.\n",
      "  interactivity=interactivity, compiler=compiler, result=result)\n"
     ]
    },
    {
     "data": {
      "text/plain": [
       "Unnamed: 0                       4\n",
       "author                         945\n",
       "body                            16\n",
       "controversiality                14\n",
       "created_utc                     14\n",
       "bepth                      1031042\n",
       "downs                      1031035\n",
       "edited                     1031035\n",
       "gilded                           7\n",
       "id                              14\n",
       "link_id                          7\n",
       "name                       1031035\n",
       "parent_id                        7\n",
       "permalink                        7\n",
       "score                           14\n",
       "subreddit_name_prefixed         14\n",
       "subreddit_type             1031042\n",
       "ups                        1031042\n",
       "dtype: int64"
      ]
     },
     "execution_count": 5,
     "metadata": {},
     "output_type": "execute_result"
    }
   ],
   "source": [
    "import pandas as pd\n",
    "import numpy as np\n",
    "import seaborn as sns\n",
    "import matplotlib.pyplot as plt\n",
    "\n",
    "\n",
    "df = pd.read_csv('reddit.csv', encoding = \"ISO-8859-1\")\n",
    "\n",
    "## Standardize data\n",
    "#df_cleaned = df.replace('Not Available', np.nan)\n",
    "\n",
    "## Remove rows: Drop rows that contain less than 30 columns values \n",
    "#df_cleaned.dropna(thresh = 30, inplace = True)\n",
    "#Count_Row=df_cleaned.shape[0]\n",
    "\n",
    "## Remove columns: Drop columns that contain less than 70% of data \n",
    "#df_cleaned.dropna(axis = 1, thresh = Count_Row * 0.7, inplace = True)\n",
    "#df_cleaned.dropna(subset=['Quality of patient care star rating'], inplace=True)\n",
    "#df_cleaned.shape # (7802, 39)\n",
    "\n",
    "#count NAN values for all columns in the dataframe\n",
    "df.isnull().sum()"
   ]
  },
  {
   "cell_type": "code",
   "execution_count": 8,
   "metadata": {},
   "outputs": [],
   "source": [
    "df = df[['score', 'body','created_utc']]"
   ]
  },
  {
   "cell_type": "code",
   "execution_count": 9,
   "metadata": {},
   "outputs": [
    {
     "name": "stdout",
     "output_type": "stream",
     "text": [
      "(1179734, 3)\n"
     ]
    }
   ],
   "source": [
    "print (df.shape)"
   ]
  },
  {
   "cell_type": "code",
   "execution_count": 10,
   "metadata": {},
   "outputs": [
    {
     "data": {
      "text/plain": [
       "score          14\n",
       "body           16\n",
       "created_utc    14\n",
       "dtype: int64"
      ]
     },
     "execution_count": 10,
     "metadata": {},
     "output_type": "execute_result"
    }
   ],
   "source": [
    "df.isnull().sum()"
   ]
  },
  {
   "cell_type": "code",
   "execution_count": 12,
   "metadata": {},
   "outputs": [
    {
     "name": "stdout",
     "output_type": "stream",
     "text": [
      "(1074944, 3)\n"
     ]
    },
    {
     "data": {
      "text/plain": [
       "score          0\n",
       "body           0\n",
       "created_utc    0\n",
       "dtype: int64"
      ]
     },
     "execution_count": 12,
     "metadata": {},
     "output_type": "execute_result"
    }
   ],
   "source": [
    "df1 = df[~df['body'].isin(['[removed]','[deleted]'])]\n",
    "\n",
    "df_clean = df1.dropna()\n",
    "print (df_clean.shape)\n",
    "df_clean.head()\n",
    "df_clean.isnull().sum()"
   ]
  },
  {
   "cell_type": "markdown",
   "metadata": {},
   "source": [
    "## Basic Exploration"
   ]
  },
  {
   "cell_type": "code",
   "execution_count": 14,
   "metadata": {},
   "outputs": [
    {
     "data": {
      "text/plain": [
       "0     17\n",
       "1     15\n",
       "2     26\n",
       "3    316\n",
       "4     12\n",
       "Name: body, dtype: int64"
      ]
     },
     "execution_count": 14,
     "metadata": {},
     "output_type": "execute_result"
    }
   ],
   "source": [
    "num_words = df_clean.body.apply(lambda x: len(str(x).split(\" \")))\n",
    "num_words.head()"
   ]
  },
  {
   "cell_type": "code",
   "execution_count": 15,
   "metadata": {},
   "outputs": [
    {
     "data": {
      "text/plain": [
       "4286"
      ]
     },
     "execution_count": 15,
     "metadata": {},
     "output_type": "execute_result"
    }
   ],
   "source": [
    "num_words.max()"
   ]
  },
  {
   "cell_type": "code",
   "execution_count": 16,
   "metadata": {},
   "outputs": [
    {
     "name": "stderr",
     "output_type": "stream",
     "text": [
      "/home/imaginasian23/anaconda3/lib/python3.6/site-packages/matplotlib/axes/_axes.py:6462: UserWarning: The 'normed' kwarg is deprecated, and has been replaced by the 'density' kwarg.\n",
      "  warnings.warn(\"The 'normed' kwarg is deprecated, and has been \"\n"
     ]
    },
    {
     "data": {
      "image/png": "[encoded data removed]",
      "text/plain": [
       "<Figure size 432x288 with 1 Axes>"
      ]
     },
     "metadata": {},
     "output_type": "display_data"
    }
   ],
   "source": [
    "fig, ax = plt.subplots()\n",
    "ax.set_ylabel(\"Frequency\")\n",
    "ax.set_xlabel(\"Comment Length (# of Words)\")\n",
    "ax.set_title(\"Frequency of Comment Lengths\")\n",
    "_ = sns.distplot(num_words, kde = False, ax = ax, color = 'g', hist_kws=dict(edgecolor=\"k\", linewidth=2))\n",
    "\n",
    "new_style = {'grid': False}\n",
    "plt.xlim(-1,300)\n",
    "\n",
    "plt.savefig('FrequencyCommentLengths.png')"
   ]
  },
  {
   "cell_type": "code",
   "execution_count": 19,
   "metadata": {},
   "outputs": [
    {
     "data": {
      "text/plain": [
       "0      6\n",
       "1      5\n",
       "2      7\n",
       "3    143\n",
       "4      3\n",
       "Name: body, dtype: int64"
      ]
     },
     "execution_count": 19,
     "metadata": {},
     "output_type": "execute_result"
    }
   ],
   "source": [
    "from nltk.corpus import stopwords\n",
    "stop = stopwords.words('english')\n",
    "\n",
    "num_stopwords = df_clean.body.apply(lambda x: len([x for x in x.split() if x in stop]))\n",
    "num_stopwords.head()"
   ]
  },
  {
   "cell_type": "code",
   "execution_count": 18,
   "metadata": {},
   "outputs": [
    {
     "name": "stderr",
     "output_type": "stream",
     "text": [
      "/home/imaginasian23/anaconda3/lib/python3.6/site-packages/matplotlib/axes/_axes.py:6462: UserWarning: The 'normed' kwarg is deprecated, and has been replaced by the 'density' kwarg.\n",
      "  warnings.warn(\"The 'normed' kwarg is deprecated, and has been \"\n"
     ]
    },
    {
     "data": {
      "text/plain": [
       "(-1, 150)"
      ]
     },
     "execution_count": 18,
     "metadata": {},
     "output_type": "execute_result"
    },
    {
     "data": {
      "image/png": "[encoded data removed]",
      "text/plain": [
       "<Figure size 432x288 with 1 Axes>"
      ]
     },
     "metadata": {},
     "output_type": "display_data"
    }
   ],
   "source": [
    "fig, ax = plt.subplots()\n",
    "ax.set_ylabel(\"Frequency of Comments\")\n",
    "ax.set_xlabel(\"Number of Stop Words\")\n",
    "ax.set_title(\"Frequency of Stop Words in Comments\")\n",
    "\n",
    "_ = sns.distplot(num_stopwords, kde = False, ax = ax, color = 'orange', hist_kws=dict(edgecolor=\"k\", linewidth=2))\n",
    "\n",
    "new_style = {'grid': False}\n",
    "\n",
    "plt.xlim(-1,150)\n",
    "#plt.savefig('FrequencyStopWords.png')"
   ]
  },
  {
   "cell_type": "markdown",
   "metadata": {},
   "source": [
    "## Basic Pre-processing"
   ]
  },
  {
   "cell_type": "code",
   "execution_count": 20,
   "metadata": {},
   "outputs": [
    {
     "name": "stderr",
     "output_type": "stream",
     "text": [
      "/home/imaginasian23/anaconda3/lib/python3.6/site-packages/pandas/core/generic.py:4401: SettingWithCopyWarning: \n",
      "A value is trying to be set on a copy of a slice from a DataFrame.\n",
      "Try using .loc[row_indexer,col_indexer] = value instead\n",
      "\n",
      "See the caveats in the documentation: http://pandas.pydata.org/pandas-docs/stable/indexing.html#indexing-view-versus-copy\n",
      "  self[name] = value\n"
     ]
    },
    {
     "data": {
      "text/plain": [
       "0    i think iâve managed to diversify my portfol...\n",
       "1    my portfolio went from just owning btc to hold...\n",
       "2    as i gambling addict , i cannot not invest in ...\n",
       "3    for anyone who is new to the market, please re...\n",
       "4    thoughts on fun? seems like a coin with actual...\n",
       "Name: body, dtype: object"
      ]
     },
     "execution_count": 20,
     "metadata": {},
     "output_type": "execute_result"
    }
   ],
   "source": [
    "df_clean.body = df_clean.body.apply(lambda x: \" \".join(x.lower() for x in x.split()))\n",
    "df_clean.body.head()"
   ]
  },
  {
   "cell_type": "code",
   "execution_count": 21,
   "metadata": {},
   "outputs": [
    {
     "name": "stderr",
     "output_type": "stream",
     "text": [
      "/home/imaginasian23/anaconda3/lib/python3.6/site-packages/pandas/core/generic.py:4401: SettingWithCopyWarning: \n",
      "A value is trying to be set on a copy of a slice from a DataFrame.\n",
      "Try using .loc[row_indexer,col_indexer] = value instead\n",
      "\n",
      "See the caveats in the documentation: http://pandas.pydata.org/pandas-docs/stable/indexing.html#indexing-view-versus-copy\n",
      "  self[name] = value\n"
     ]
    },
    {
     "data": {
      "text/plain": [
       "0    i think iâve managed to diversify my portfolio...\n",
       "1    my portfolio went from just owning btc to hold...\n",
       "2    as i gambling addict  i cannot not invest in f...\n",
       "3    for anyone who is new to the market please rea...\n",
       "4    thoughts on fun seems like a coin with actual ...\n",
       "Name: body, dtype: object"
      ]
     },
     "execution_count": 21,
     "metadata": {},
     "output_type": "execute_result"
    }
   ],
   "source": [
    "df_clean.body = df_clean.body.str.replace('[^\\w\\s]','')\n",
    "df_clean.body.head()"
   ]
  },
  {
   "cell_type": "code",
   "execution_count": 39,
   "metadata": {},
   "outputs": [
    {
     "name": "stderr",
     "output_type": "stream",
     "text": [
      "/home/imaginasian23/anaconda3/lib/python3.6/site-packages/pandas/core/generic.py:4401: SettingWithCopyWarning: \n",
      "A value is trying to be set on a copy of a slice from a DataFrame.\n",
      "Try using .loc[row_indexer,col_indexer] = value instead\n",
      "\n",
      "See the caveats in the documentation: http://pandas.pydata.org/pandas-docs/stable/indexing.html#indexing-view-versus-copy\n",
      "  self[name] = value\n"
     ]
    },
    {
     "data": {
      "text/plain": [
       "0    think iâve managed diversify portfolio well it...\n",
       "1    portfolio went owning btc holding 20 altcoins ...\n",
       "2    gambling addict cannot invest fun easiest indu...\n",
       "3    anyone new market please read post see quick i...\n",
       "4    thoughts fun seems like coin actual practical use\n",
       "5                 oyster pearl destroying soul fuckkkk\n",
       "6    worth doubling bnty itâs 20 right worried week...\n",
       "7                               eth back nice see leet\n",
       "8    somebodys rich uncle please market order req b...\n",
       "9    need someone hodl tell itll okay hodl req bnty...\n",
       "Name: body, dtype: object"
      ]
     },
     "execution_count": 39,
     "metadata": {},
     "output_type": "execute_result"
    }
   ],
   "source": [
    "from nltk.corpus import stopwords\n",
    "stop = stopwords.words('english')\n",
    "\n",
    "df_clean.body = df_clean.body.apply(lambda x: \" \".join(x for x in x.split() if x not in stop))\n",
    "df_clean.body.head(10)"
   ]
  },
  {
   "cell_type": "code",
   "execution_count": 38,
   "metadata": {},
   "outputs": [
    {
     "data": {
      "text/plain": [
       "like       121034\n",
       "bitcoin    108561\n",
       "people     106516\n",
       "would       97423\n",
       "dont        94132\n",
       "im          80356\n",
       "think       79307\n",
       "get         78900\n",
       "one         78735\n",
       "crypto      71289\n",
       "dtype: int64"
      ]
     },
     "execution_count": 38,
     "metadata": {},
     "output_type": "execute_result"
    }
   ],
   "source": [
    "n=10\n",
    "common_word_freq = pd.Series(' '.join(df_clean.body).split()).value_counts()[:n]\n",
    "common_word_freq"
   ]
  },
  {
   "cell_type": "code",
   "execution_count": 28,
   "metadata": {
    "scrolled": true
   },
   "outputs": [
    {
     "name": "stderr",
     "output_type": "stream",
     "text": [
      "/home/imaginasian23/anaconda3/lib/python3.6/site-packages/pandas/core/generic.py:4401: SettingWithCopyWarning: \n",
      "A value is trying to be set on a copy of a slice from a DataFrame.\n",
      "Try using .loc[row_indexer,col_indexer] = value instead\n",
      "\n",
      "See the caveats in the documentation: http://pandas.pydata.org/pandas-docs/stable/indexing.html#indexing-view-versus-copy\n",
      "  self[name] = value\n"
     ]
    }
   ],
   "source": [
    "value_counts = pd.Series(' '.join(df_clean.body).split()).value_counts() # Specific column \n",
    "rare_word_index = value_counts[value_counts <= 3].index\n",
    "\n",
    "df_clean.body = df_clean.body.apply(lambda x: \" \".join(x for x in x.split() if x not in rare_word_index))\n",
    "df_clean.body.head(10)\n",
    "\n",
    "df_clean_2 = df_clean"
   ]
  },
  {
   "cell_type": "code",
   "execution_count": 29,
   "metadata": {},
   "outputs": [],
   "source": [
    "from textblob import TextBlob"
   ]
  },
  {
   "cell_type": "code",
   "execution_count": 30,
   "metadata": {},
   "outputs": [],
   "source": [
    "#df_clean_2.body = df_clean_2.body.apply(lambda x: str(TextBlob(x).correct()))"
   ]
  },
  {
   "cell_type": "code",
   "execution_count": 31,
   "metadata": {},
   "outputs": [
    {
     "name": "stderr",
     "output_type": "stream",
     "text": [
      "/home/imaginasian23/anaconda3/lib/python3.6/site-packages/ipykernel_launcher.py:1: SettingWithCopyWarning: \n",
      "A value is trying to be set on a copy of a slice from a DataFrame.\n",
      "Try using .loc[row_indexer,col_indexer] = value instead\n",
      "\n",
      "See the caveats in the documentation: http://pandas.pydata.org/pandas-docs/stable/indexing.html#indexing-view-versus-copy\n",
      "  \"\"\"Entry point for launching an IPython kernel.\n",
      "/home/imaginasian23/anaconda3/lib/python3.6/site-packages/ipykernel_launcher.py:2: SettingWithCopyWarning: \n",
      "A value is trying to be set on a copy of a slice from a DataFrame.\n",
      "Try using .loc[row_indexer,col_indexer] = value instead\n",
      "\n",
      "See the caveats in the documentation: http://pandas.pydata.org/pandas-docs/stable/indexing.html#indexing-view-versus-copy\n",
      "  \n"
     ]
    }
   ],
   "source": [
    "df_clean_2['polarity'] = df_clean_2.body.apply(lambda x: TextBlob(x).sentiment[0])\n",
    "df_clean_2['subjectivity'] = df_clean_2.body.apply(lambda x: TextBlob(x).sentiment[1])\n"
   ]
  },
  {
   "cell_type": "code",
   "execution_count": 55,
   "metadata": {
    "scrolled": true
   },
   "outputs": [
    {
     "data": {
      "text/html": [
       "<div>\n",
       "<style scoped>\n",
       "    .dataframe tbody tr th:only-of-type {\n",
       "        vertical-align: middle;\n",
       "    }\n",
       "\n",
       "    .dataframe tbody tr th {\n",
       "        vertical-align: top;\n",
       "    }\n",
       "\n",
       "    .dataframe thead th {\n",
       "        text-align: right;\n",
       "    }\n",
       "</style>\n",
       "<table border=\"1\" class=\"dataframe\">\n",
       "  <thead>\n",
       "    <tr style=\"text-align: right;\">\n",
       "      <th></th>\n",
       "      <th>score</th>\n",
       "      <th>body</th>\n",
       "      <th>created_utc</th>\n",
       "      <th>polarity</th>\n",
       "      <th>subjectivity</th>\n",
       "    </tr>\n",
       "  </thead>\n",
       "  <tbody>\n",
       "    <tr>\n",
       "      <th>0</th>\n",
       "      <td>255.0</td>\n",
       "      <td>think iâve managed diversify portfolio well it...</td>\n",
       "      <td>1.515851e+09</td>\n",
       "      <td>0.000000</td>\n",
       "      <td>0.000000</td>\n",
       "    </tr>\n",
       "    <tr>\n",
       "      <th>1</th>\n",
       "      <td>123.0</td>\n",
       "      <td>portfolio went owning btc holding 20 altcoins ...</td>\n",
       "      <td>1.515829e+09</td>\n",
       "      <td>0.200000</td>\n",
       "      <td>0.200000</td>\n",
       "    </tr>\n",
       "    <tr>\n",
       "      <th>2</th>\n",
       "      <td>46.0</td>\n",
       "      <td>gambling addict cannot invest fun easiest indu...</td>\n",
       "      <td>1.515825e+09</td>\n",
       "      <td>0.300000</td>\n",
       "      <td>0.200000</td>\n",
       "    </tr>\n",
       "    <tr>\n",
       "      <th>3</th>\n",
       "      <td>32.0</td>\n",
       "      <td>anyone new market please read post see quick i...</td>\n",
       "      <td>1.515896e+09</td>\n",
       "      <td>0.109901</td>\n",
       "      <td>0.386412</td>\n",
       "    </tr>\n",
       "    <tr>\n",
       "      <th>4</th>\n",
       "      <td>29.0</td>\n",
       "      <td>thoughts fun seems like coin actual practical use</td>\n",
       "      <td>1.515833e+09</td>\n",
       "      <td>0.150000</td>\n",
       "      <td>0.150000</td>\n",
       "    </tr>\n",
       "    <tr>\n",
       "      <th>5</th>\n",
       "      <td>25.0</td>\n",
       "      <td>oyster pearl destroying soul fuckkkk</td>\n",
       "      <td>1.515837e+09</td>\n",
       "      <td>-0.200000</td>\n",
       "      <td>0.000000</td>\n",
       "    </tr>\n",
       "    <tr>\n",
       "      <th>6</th>\n",
       "      <td>27.0</td>\n",
       "      <td>worth doubling bnty itâs 20 right worried week...</td>\n",
       "      <td>1.515845e+09</td>\n",
       "      <td>0.248571</td>\n",
       "      <td>0.391905</td>\n",
       "    </tr>\n",
       "    <tr>\n",
       "      <th>7</th>\n",
       "      <td>27.0</td>\n",
       "      <td>eth back nice see leet</td>\n",
       "      <td>1.515846e+09</td>\n",
       "      <td>0.300000</td>\n",
       "      <td>0.500000</td>\n",
       "    </tr>\n",
       "    <tr>\n",
       "      <th>8</th>\n",
       "      <td>23.0</td>\n",
       "      <td>somebodys rich uncle please market order req b...</td>\n",
       "      <td>1.515860e+09</td>\n",
       "      <td>0.187500</td>\n",
       "      <td>0.375000</td>\n",
       "    </tr>\n",
       "    <tr>\n",
       "      <th>9</th>\n",
       "      <td>24.0</td>\n",
       "      <td>need someone hodl tell itll okay hodl req bnty...</td>\n",
       "      <td>1.515867e+09</td>\n",
       "      <td>0.500000</td>\n",
       "      <td>0.500000</td>\n",
       "    </tr>\n",
       "    <tr>\n",
       "      <th>10</th>\n",
       "      <td>130.0</td>\n",
       "      <td>bf told stay away crypto time break</td>\n",
       "      <td>1.515824e+09</td>\n",
       "      <td>0.000000</td>\n",
       "      <td>0.000000</td>\n",
       "    </tr>\n",
       "    <tr>\n",
       "      <th>11</th>\n",
       "      <td>76.0</td>\n",
       "      <td>generally compare coinâs cap btcâs assume itâs...</td>\n",
       "      <td>1.515828e+09</td>\n",
       "      <td>-0.007500</td>\n",
       "      <td>0.503333</td>\n",
       "    </tr>\n",
       "    <tr>\n",
       "      <th>12</th>\n",
       "      <td>21.0</td>\n",
       "      <td>heads âdustâ coins sitting binance account sel...</td>\n",
       "      <td>1.515900e+09</td>\n",
       "      <td>0.000000</td>\n",
       "      <td>0.000000</td>\n",
       "    </tr>\n",
       "    <tr>\n",
       "      <th>13</th>\n",
       "      <td>41.0</td>\n",
       "      <td>bnty coss</td>\n",
       "      <td>1.515824e+09</td>\n",
       "      <td>0.000000</td>\n",
       "      <td>0.000000</td>\n",
       "    </tr>\n",
       "    <tr>\n",
       "      <th>14</th>\n",
       "      <td>40.0</td>\n",
       "      <td>req lend nice discounts buy</td>\n",
       "      <td>1.515828e+09</td>\n",
       "      <td>0.600000</td>\n",
       "      <td>1.000000</td>\n",
       "    </tr>\n",
       "    <tr>\n",
       "      <th>15</th>\n",
       "      <td>18.0</td>\n",
       "      <td>started investing crypto currency 45 days ago ...</td>\n",
       "      <td>1.515838e+09</td>\n",
       "      <td>0.337500</td>\n",
       "      <td>0.525000</td>\n",
       "    </tr>\n",
       "    <tr>\n",
       "      <th>16</th>\n",
       "      <td>18.0</td>\n",
       "      <td>good guys ive lurked 6 months im 25 waiter sub...</td>\n",
       "      <td>1.515864e+09</td>\n",
       "      <td>0.700000</td>\n",
       "      <td>0.600000</td>\n",
       "    </tr>\n",
       "    <tr>\n",
       "      <th>17</th>\n",
       "      <td>19.0</td>\n",
       "      <td>hello req icx</td>\n",
       "      <td>1.515893e+09</td>\n",
       "      <td>0.000000</td>\n",
       "      <td>0.000000</td>\n",
       "    </tr>\n",
       "    <tr>\n",
       "      <th>18</th>\n",
       "      <td>33.0</td>\n",
       "      <td>people expect fro req year reach top 15</td>\n",
       "      <td>1.515831e+09</td>\n",
       "      <td>0.500000</td>\n",
       "      <td>0.500000</td>\n",
       "    </tr>\n",
       "    <tr>\n",
       "      <th>19</th>\n",
       "      <td>17.0</td>\n",
       "      <td>confident telling people panic hold dips norma...</td>\n",
       "      <td>1.515856e+09</td>\n",
       "      <td>0.216667</td>\n",
       "      <td>0.494444</td>\n",
       "    </tr>\n",
       "  </tbody>\n",
       "</table>\n",
       "</div>"
      ],
      "text/plain": [
       "    score                                               body   created_utc  \\\n",
       "0   255.0  think iâve managed diversify portfolio well it...  1.515851e+09   \n",
       "1   123.0  portfolio went owning btc holding 20 altcoins ...  1.515829e+09   \n",
       "2    46.0  gambling addict cannot invest fun easiest indu...  1.515825e+09   \n",
       "3    32.0  anyone new market please read post see quick i...  1.515896e+09   \n",
       "4    29.0  thoughts fun seems like coin actual practical use  1.515833e+09   \n",
       "5    25.0               oyster pearl destroying soul fuckkkk  1.515837e+09   \n",
       "6    27.0  worth doubling bnty itâs 20 right worried week...  1.515845e+09   \n",
       "7    27.0                             eth back nice see leet  1.515846e+09   \n",
       "8    23.0  somebodys rich uncle please market order req b...  1.515860e+09   \n",
       "9    24.0  need someone hodl tell itll okay hodl req bnty...  1.515867e+09   \n",
       "10  130.0                bf told stay away crypto time break  1.515824e+09   \n",
       "11   76.0  generally compare coinâs cap btcâs assume itâs...  1.515828e+09   \n",
       "12   21.0  heads âdustâ coins sitting binance account sel...  1.515900e+09   \n",
       "13   41.0                                          bnty coss  1.515824e+09   \n",
       "14   40.0                        req lend nice discounts buy  1.515828e+09   \n",
       "15   18.0  started investing crypto currency 45 days ago ...  1.515838e+09   \n",
       "16   18.0  good guys ive lurked 6 months im 25 waiter sub...  1.515864e+09   \n",
       "17   19.0                                      hello req icx  1.515893e+09   \n",
       "18   33.0            people expect fro req year reach top 15  1.515831e+09   \n",
       "19   17.0  confident telling people panic hold dips norma...  1.515856e+09   \n",
       "\n",
       "    polarity  subjectivity  \n",
       "0   0.000000      0.000000  \n",
       "1   0.200000      0.200000  \n",
       "2   0.300000      0.200000  \n",
       "3   0.109901      0.386412  \n",
       "4   0.150000      0.150000  \n",
       "5  -0.200000      0.000000  \n",
       "6   0.248571      0.391905  \n",
       "7   0.300000      0.500000  \n",
       "8   0.187500      0.375000  \n",
       "9   0.500000      0.500000  \n",
       "10  0.000000      0.000000  \n",
       "11 -0.007500      0.503333  \n",
       "12  0.000000      0.000000  \n",
       "13  0.000000      0.000000  \n",
       "14  0.600000      1.000000  \n",
       "15  0.337500      0.525000  \n",
       "16  0.700000      0.600000  \n",
       "17  0.000000      0.000000  \n",
       "18  0.500000      0.500000  \n",
       "19  0.216667      0.494444  "
      ]
     },
     "execution_count": 55,
     "metadata": {},
     "output_type": "execute_result"
    }
   ],
   "source": [
    "df_clean_2.head(20)"
   ]
  },
  {
   "cell_type": "code",
   "execution_count": 32,
   "metadata": {},
   "outputs": [],
   "source": [
    "reddit_cleaned = df_clean_2[['score', 'created_utc', 'polarity', 'subjectivity']]"
   ]
  },
  {
   "cell_type": "code",
   "execution_count": 33,
   "metadata": {},
   "outputs": [],
   "source": [
    "reddit_cleaned.to_csv(\"Reddit_cleaned.csv\", header = True)"
   ]
  },
  {
   "cell_type": "markdown",
   "metadata": {},
   "source": [
    "## Basic Exploration of Polarity Measures"
   ]
  },
  {
   "cell_type": "code",
   "execution_count": 34,
   "metadata": {},
   "outputs": [
    {
     "data": {
      "text/html": [
       "<div>\n",
       "<style scoped>\n",
       "    .dataframe tbody tr th:only-of-type {\n",
       "        vertical-align: middle;\n",
       "    }\n",
       "\n",
       "    .dataframe tbody tr th {\n",
       "        vertical-align: top;\n",
       "    }\n",
       "\n",
       "    .dataframe thead th {\n",
       "        text-align: right;\n",
       "    }\n",
       "</style>\n",
       "<table border=\"1\" class=\"dataframe\">\n",
       "  <thead>\n",
       "    <tr style=\"text-align: right;\">\n",
       "      <th></th>\n",
       "      <th>Unnamed: 0</th>\n",
       "      <th>score</th>\n",
       "      <th>created_utc</th>\n",
       "      <th>polarity</th>\n",
       "      <th>subjectivity</th>\n",
       "    </tr>\n",
       "  </thead>\n",
       "  <tbody>\n",
       "    <tr>\n",
       "      <th>0</th>\n",
       "      <td>0</td>\n",
       "      <td>255.0</td>\n",
       "      <td>1.515851e+09</td>\n",
       "      <td>0.000000</td>\n",
       "      <td>0.000000</td>\n",
       "    </tr>\n",
       "    <tr>\n",
       "      <th>1</th>\n",
       "      <td>1</td>\n",
       "      <td>123.0</td>\n",
       "      <td>1.515829e+09</td>\n",
       "      <td>0.200000</td>\n",
       "      <td>0.200000</td>\n",
       "    </tr>\n",
       "    <tr>\n",
       "      <th>2</th>\n",
       "      <td>2</td>\n",
       "      <td>46.0</td>\n",
       "      <td>1.515825e+09</td>\n",
       "      <td>0.300000</td>\n",
       "      <td>0.200000</td>\n",
       "    </tr>\n",
       "    <tr>\n",
       "      <th>3</th>\n",
       "      <td>3</td>\n",
       "      <td>32.0</td>\n",
       "      <td>1.515896e+09</td>\n",
       "      <td>0.109901</td>\n",
       "      <td>0.386412</td>\n",
       "    </tr>\n",
       "    <tr>\n",
       "      <th>4</th>\n",
       "      <td>4</td>\n",
       "      <td>29.0</td>\n",
       "      <td>1.515833e+09</td>\n",
       "      <td>0.150000</td>\n",
       "      <td>0.150000</td>\n",
       "    </tr>\n",
       "  </tbody>\n",
       "</table>\n",
       "</div>"
      ],
      "text/plain": [
       "   Unnamed: 0  score   created_utc  polarity  subjectivity\n",
       "0           0  255.0  1.515851e+09  0.000000      0.000000\n",
       "1           1  123.0  1.515829e+09  0.200000      0.200000\n",
       "2           2   46.0  1.515825e+09  0.300000      0.200000\n",
       "3           3   32.0  1.515896e+09  0.109901      0.386412\n",
       "4           4   29.0  1.515833e+09  0.150000      0.150000"
      ]
     },
     "execution_count": 34,
     "metadata": {},
     "output_type": "execute_result"
    }
   ],
   "source": [
    "reddit_clean = pd.read_csv('Reddit_cleaned.csv')\n",
    "reddit_clean.head()"
   ]
  },
  {
   "cell_type": "code",
   "execution_count": 35,
   "metadata": {},
   "outputs": [],
   "source": [
    "pos = len(reddit_clean[reddit_clean['polarity'] > 0])\n",
    "neg = len(reddit_clean[reddit_clean['polarity'] < 0])\n",
    "neutral = len(reddit_clean[reddit_clean['polarity'] == 0])\n",
    "\n",
    "assert reddit_clean.shape[0] == pos + neg + neutral"
   ]
  },
  {
   "cell_type": "code",
   "execution_count": 36,
   "metadata": {},
   "outputs": [
    {
     "data": {
      "image/png": "[encoded data removed]",
      "text/plain": [
       "<Figure size 432x288 with 1 Axes>"
      ]
     },
     "metadata": {},
     "output_type": "display_data"
    }
   ],
   "source": [
    "a = pd.DataFrame([pos,neg,neutral], index = [\"Positive\", \"Negative\", \"Neutral\"])\n",
    "a.index\n",
    "a.columns = ['Count']\n",
    "\n",
    "fig, ax = plt.subplots()\n",
    "ax.set_ylabel(\"Comment Count\")\n",
    "ax.set_title(\"Polarity Breakdown\")\n",
    "\n",
    "\n",
    "plt.rcParams[\"patch.force_edgecolor\"] = True\n",
    "_=sns.barplot(data = a, x = a.index, y = 'Count', palette=['Green', 'Red','Blue'])\n",
    "\n",
    "#plt.savefig('PolarityBreakdown.png')"
   ]
  }
 ],
 "metadata": {
  "kernelspec": {
   "display_name": "Python 3",
   "language": "python",
   "name": "python3"
  },
  "language_info": {
   "codemirror_mode": {
    "name": "ipython",
    "version": 3
   },
   "file_extension": ".py",
   "mimetype": "text/x-python",
   "name": "python",
   "nbconvert_exporter": "python",
   "pygments_lexer": "ipython3",
   "version": "3.6.5"
  }
 },
 "nbformat": 4,
 "nbformat_minor": 2
}
